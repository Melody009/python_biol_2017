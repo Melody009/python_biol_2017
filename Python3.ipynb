{
 "cells": [
  {
   "cell_type": "code",
   "execution_count": 15,
   "metadata": {
    "collapsed": true
   },
   "outputs": [],
   "source": [
    "rceni = 'Král řekl Honzovi: \"Ta saň má 7 hlav! Zabij ji a dostaneš 1/2 království.\"'\n",
    "symbol = 'aábcčdeéfghiíjklmnňoópqrřsštťuúvwxyýz'\n",
    "cisla='1234567890'"
   ]
  },
  {
   "cell_type": "code",
   "execution_count": 16,
   "metadata": {
    "collapsed": true
   },
   "outputs": [],
   "source": [
    "rceni_lower = []\n",
    "for letter in rceni:\n",
    "    rceni_lower.append(letter.lower())"
   ]
  },
  {
   "cell_type": "code",
   "execution_count": 17,
   "metadata": {},
   "outputs": [
    {
     "data": {
      "text/plain": [
       "['k',\n",
       " 'r',\n",
       " 'á',\n",
       " 'l',\n",
       " ' ',\n",
       " 'ř',\n",
       " 'e',\n",
       " 'k',\n",
       " 'l',\n",
       " ' ',\n",
       " 'h',\n",
       " 'o',\n",
       " 'n',\n",
       " 'z',\n",
       " 'o',\n",
       " 'v',\n",
       " 'i',\n",
       " ':',\n",
       " ' ',\n",
       " '\"',\n",
       " 't',\n",
       " 'a',\n",
       " ' ',\n",
       " 's',\n",
       " 'a',\n",
       " 'ň',\n",
       " ' ',\n",
       " 'm',\n",
       " 'á',\n",
       " ' ',\n",
       " '7',\n",
       " ' ',\n",
       " 'h',\n",
       " 'l',\n",
       " 'a',\n",
       " 'v',\n",
       " '!',\n",
       " ' ',\n",
       " 'z',\n",
       " 'a',\n",
       " 'b',\n",
       " 'i',\n",
       " 'j',\n",
       " ' ',\n",
       " 'j',\n",
       " 'i',\n",
       " ' ',\n",
       " 'a',\n",
       " ' ',\n",
       " 'd',\n",
       " 'o',\n",
       " 's',\n",
       " 't',\n",
       " 'a',\n",
       " 'n',\n",
       " 'e',\n",
       " 'š',\n",
       " ' ',\n",
       " '1',\n",
       " '/',\n",
       " '2',\n",
       " ' ',\n",
       " 'k',\n",
       " 'r',\n",
       " 'á',\n",
       " 'l',\n",
       " 'o',\n",
       " 'v',\n",
       " 's',\n",
       " 't',\n",
       " 'v',\n",
       " 'í',\n",
       " '.',\n",
       " '\"']"
      ]
     },
     "execution_count": 17,
     "metadata": {},
     "output_type": "execute_result"
    }
   ],
   "source": [
    "rceni_lower"
   ]
  },
  {
   "cell_type": "code",
   "execution_count": 18,
   "metadata": {
    "collapsed": true
   },
   "outputs": [],
   "source": [
    "rceni_2=[]\n",
    "rceni_3=[]\n",
    "rceni_4=[]\n",
    "for x in rceni_lower:\n",
    "    if x in cisla:\n",
    "        rceni_2.append(x)\n",
    "    elif x in symbol:\n",
    "        rceni_3.append(x)\n",
    "    else:\n",
    "        rceni_4.append(x)"
   ]
  },
  {
   "cell_type": "code",
   "execution_count": 19,
   "metadata": {},
   "outputs": [
    {
     "data": {
      "text/plain": [
       "3"
      ]
     },
     "execution_count": 19,
     "metadata": {},
     "output_type": "execute_result"
    }
   ],
   "source": [
    "len(rceni_2)"
   ]
  },
  {
   "cell_type": "code",
   "execution_count": 20,
   "metadata": {},
   "outputs": [
    {
     "data": {
      "text/plain": [
       "52"
      ]
     },
     "execution_count": 20,
     "metadata": {},
     "output_type": "execute_result"
    }
   ],
   "source": [
    "len(rceni_3)"
   ]
  },
  {
   "cell_type": "code",
   "execution_count": 21,
   "metadata": {},
   "outputs": [
    {
     "data": {
      "text/plain": [
       "19"
      ]
     },
     "execution_count": 21,
     "metadata": {},
     "output_type": "execute_result"
    }
   ],
   "source": [
    "len(rceni_4)"
   ]
  },
  {
   "cell_type": "code",
   "execution_count": 1,
   "metadata": {},
   "outputs": [
    {
     "name": "stdout",
     "output_type": "stream",
     "text": [
      "Zadej věk kočky: 83\n",
      "430\n"
     ]
    }
   ],
   "source": [
    "x = int(input('Zadej věk kočky: '))\n",
    "if x>=2:\n",
    "    print(18+7+(x-2)*5)\n",
    "elif x==1:\n",
    "    print(18)\n",
    "elif x==0:\n",
    "    print(0)"
   ]
  },
  {
   "cell_type": "code",
   "execution_count": null,
   "metadata": {
    "collapsed": true
   },
   "outputs": [],
   "source": []
  }
 ],
 "metadata": {
  "kernelspec": {
   "display_name": "Python 3",
   "language": "python",
   "name": "python3"
  },
  "language_info": {
   "codemirror_mode": {
    "name": "ipython",
    "version": 3
   },
   "file_extension": ".py",
   "mimetype": "text/x-python",
   "name": "python",
   "nbconvert_exporter": "python",
   "pygments_lexer": "ipython3",
   "version": "3.6.1"
  }
 },
 "nbformat": 4,
 "nbformat_minor": 2
}
